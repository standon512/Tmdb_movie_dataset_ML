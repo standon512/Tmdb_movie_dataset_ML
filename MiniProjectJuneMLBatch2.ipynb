{
 "cells": [
  {
   "cell_type": "code",
   "execution_count": 3,
   "metadata": {},
   "outputs": [],
   "source": [
    "import pandas as pd\n",
    "import matplotlib.pyplot as plt\n",
    "import numpy as np\n",
    "import seaborn as sns"
   ]
  },
  {
   "cell_type": "code",
   "execution_count": 4,
   "metadata": {},
   "outputs": [],
   "source": [
    "df=pd.read_csv(\"tmdb-movies.csv\")"
   ]
  },
  {
   "cell_type": "code",
   "execution_count": 5,
   "metadata": {},
   "outputs": [
    {
     "data": {
      "text/html": [
       "<div>\n",
       "<style scoped>\n",
       "    .dataframe tbody tr th:only-of-type {\n",
       "        vertical-align: middle;\n",
       "    }\n",
       "\n",
       "    .dataframe tbody tr th {\n",
       "        vertical-align: top;\n",
       "    }\n",
       "\n",
       "    .dataframe thead th {\n",
       "        text-align: right;\n",
       "    }\n",
       "</style>\n",
       "<table border=\"1\" class=\"dataframe\">\n",
       "  <thead>\n",
       "    <tr style=\"text-align: right;\">\n",
       "      <th></th>\n",
       "      <th>id</th>\n",
       "      <th>imdb_id</th>\n",
       "      <th>popularity</th>\n",
       "      <th>budget</th>\n",
       "      <th>revenue</th>\n",
       "      <th>original_title</th>\n",
       "      <th>cast</th>\n",
       "      <th>homepage</th>\n",
       "      <th>director</th>\n",
       "      <th>tagline</th>\n",
       "      <th>...</th>\n",
       "      <th>overview</th>\n",
       "      <th>runtime</th>\n",
       "      <th>genres</th>\n",
       "      <th>production_companies</th>\n",
       "      <th>release_date</th>\n",
       "      <th>vote_count</th>\n",
       "      <th>vote_average</th>\n",
       "      <th>release_year</th>\n",
       "      <th>budget_adj</th>\n",
       "      <th>revenue_adj</th>\n",
       "    </tr>\n",
       "  </thead>\n",
       "  <tbody>\n",
       "    <tr>\n",
       "      <th>0</th>\n",
       "      <td>135397</td>\n",
       "      <td>tt0369610</td>\n",
       "      <td>32.985763</td>\n",
       "      <td>150000000</td>\n",
       "      <td>1513528810</td>\n",
       "      <td>Jurassic World</td>\n",
       "      <td>Chris Pratt|Bryce Dallas Howard|Irrfan Khan|Vi...</td>\n",
       "      <td>http://www.jurassicworld.com/</td>\n",
       "      <td>Colin Trevorrow</td>\n",
       "      <td>The park is open.</td>\n",
       "      <td>...</td>\n",
       "      <td>Twenty-two years after the events of Jurassic ...</td>\n",
       "      <td>124</td>\n",
       "      <td>Action|Adventure|Science Fiction|Thriller</td>\n",
       "      <td>Universal Studios|Amblin Entertainment|Legenda...</td>\n",
       "      <td>6/9/15</td>\n",
       "      <td>5562</td>\n",
       "      <td>6.5</td>\n",
       "      <td>2015</td>\n",
       "      <td>1.379999e+08</td>\n",
       "      <td>1.392446e+09</td>\n",
       "    </tr>\n",
       "    <tr>\n",
       "      <th>1</th>\n",
       "      <td>76341</td>\n",
       "      <td>tt1392190</td>\n",
       "      <td>28.419936</td>\n",
       "      <td>150000000</td>\n",
       "      <td>378436354</td>\n",
       "      <td>Mad Max: Fury Road</td>\n",
       "      <td>Tom Hardy|Charlize Theron|Hugh Keays-Byrne|Nic...</td>\n",
       "      <td>http://www.madmaxmovie.com/</td>\n",
       "      <td>George Miller</td>\n",
       "      <td>What a Lovely Day.</td>\n",
       "      <td>...</td>\n",
       "      <td>An apocalyptic story set in the furthest reach...</td>\n",
       "      <td>120</td>\n",
       "      <td>Action|Adventure|Science Fiction|Thriller</td>\n",
       "      <td>Village Roadshow Pictures|Kennedy Miller Produ...</td>\n",
       "      <td>5/13/15</td>\n",
       "      <td>6185</td>\n",
       "      <td>7.1</td>\n",
       "      <td>2015</td>\n",
       "      <td>1.379999e+08</td>\n",
       "      <td>3.481613e+08</td>\n",
       "    </tr>\n",
       "    <tr>\n",
       "      <th>2</th>\n",
       "      <td>262500</td>\n",
       "      <td>tt2908446</td>\n",
       "      <td>13.112507</td>\n",
       "      <td>110000000</td>\n",
       "      <td>295238201</td>\n",
       "      <td>Insurgent</td>\n",
       "      <td>Shailene Woodley|Theo James|Kate Winslet|Ansel...</td>\n",
       "      <td>http://www.thedivergentseries.movie/#insurgent</td>\n",
       "      <td>Robert Schwentke</td>\n",
       "      <td>One Choice Can Destroy You</td>\n",
       "      <td>...</td>\n",
       "      <td>Beatrice Prior must confront her inner demons ...</td>\n",
       "      <td>119</td>\n",
       "      <td>Adventure|Science Fiction|Thriller</td>\n",
       "      <td>Summit Entertainment|Mandeville Films|Red Wago...</td>\n",
       "      <td>3/18/15</td>\n",
       "      <td>2480</td>\n",
       "      <td>6.3</td>\n",
       "      <td>2015</td>\n",
       "      <td>1.012000e+08</td>\n",
       "      <td>2.716190e+08</td>\n",
       "    </tr>\n",
       "    <tr>\n",
       "      <th>3</th>\n",
       "      <td>140607</td>\n",
       "      <td>tt2488496</td>\n",
       "      <td>11.173104</td>\n",
       "      <td>200000000</td>\n",
       "      <td>2068178225</td>\n",
       "      <td>Star Wars: The Force Awakens</td>\n",
       "      <td>Harrison Ford|Mark Hamill|Carrie Fisher|Adam D...</td>\n",
       "      <td>http://www.starwars.com/films/star-wars-episod...</td>\n",
       "      <td>J.J. Abrams</td>\n",
       "      <td>Every generation has a story.</td>\n",
       "      <td>...</td>\n",
       "      <td>Thirty years after defeating the Galactic Empi...</td>\n",
       "      <td>136</td>\n",
       "      <td>Action|Adventure|Science Fiction|Fantasy</td>\n",
       "      <td>Lucasfilm|Truenorth Productions|Bad Robot</td>\n",
       "      <td>12/15/15</td>\n",
       "      <td>5292</td>\n",
       "      <td>7.5</td>\n",
       "      <td>2015</td>\n",
       "      <td>1.839999e+08</td>\n",
       "      <td>1.902723e+09</td>\n",
       "    </tr>\n",
       "    <tr>\n",
       "      <th>4</th>\n",
       "      <td>168259</td>\n",
       "      <td>tt2820852</td>\n",
       "      <td>9.335014</td>\n",
       "      <td>190000000</td>\n",
       "      <td>1506249360</td>\n",
       "      <td>Furious 7</td>\n",
       "      <td>Vin Diesel|Paul Walker|Jason Statham|Michelle ...</td>\n",
       "      <td>http://www.furious7.com/</td>\n",
       "      <td>James Wan</td>\n",
       "      <td>Vengeance Hits Home</td>\n",
       "      <td>...</td>\n",
       "      <td>Deckard Shaw seeks revenge against Dominic Tor...</td>\n",
       "      <td>137</td>\n",
       "      <td>Action|Crime|Thriller</td>\n",
       "      <td>Universal Pictures|Original Film|Media Rights ...</td>\n",
       "      <td>4/1/15</td>\n",
       "      <td>2947</td>\n",
       "      <td>7.3</td>\n",
       "      <td>2015</td>\n",
       "      <td>1.747999e+08</td>\n",
       "      <td>1.385749e+09</td>\n",
       "    </tr>\n",
       "  </tbody>\n",
       "</table>\n",
       "<p>5 rows × 21 columns</p>\n",
       "</div>"
      ],
      "text/plain": [
       "       id    imdb_id  popularity     budget     revenue  \\\n",
       "0  135397  tt0369610   32.985763  150000000  1513528810   \n",
       "1   76341  tt1392190   28.419936  150000000   378436354   \n",
       "2  262500  tt2908446   13.112507  110000000   295238201   \n",
       "3  140607  tt2488496   11.173104  200000000  2068178225   \n",
       "4  168259  tt2820852    9.335014  190000000  1506249360   \n",
       "\n",
       "                 original_title  \\\n",
       "0                Jurassic World   \n",
       "1            Mad Max: Fury Road   \n",
       "2                     Insurgent   \n",
       "3  Star Wars: The Force Awakens   \n",
       "4                     Furious 7   \n",
       "\n",
       "                                                cast  \\\n",
       "0  Chris Pratt|Bryce Dallas Howard|Irrfan Khan|Vi...   \n",
       "1  Tom Hardy|Charlize Theron|Hugh Keays-Byrne|Nic...   \n",
       "2  Shailene Woodley|Theo James|Kate Winslet|Ansel...   \n",
       "3  Harrison Ford|Mark Hamill|Carrie Fisher|Adam D...   \n",
       "4  Vin Diesel|Paul Walker|Jason Statham|Michelle ...   \n",
       "\n",
       "                                            homepage          director  \\\n",
       "0                      http://www.jurassicworld.com/   Colin Trevorrow   \n",
       "1                        http://www.madmaxmovie.com/     George Miller   \n",
       "2     http://www.thedivergentseries.movie/#insurgent  Robert Schwentke   \n",
       "3  http://www.starwars.com/films/star-wars-episod...       J.J. Abrams   \n",
       "4                           http://www.furious7.com/         James Wan   \n",
       "\n",
       "                         tagline  ...  \\\n",
       "0              The park is open.  ...   \n",
       "1             What a Lovely Day.  ...   \n",
       "2     One Choice Can Destroy You  ...   \n",
       "3  Every generation has a story.  ...   \n",
       "4            Vengeance Hits Home  ...   \n",
       "\n",
       "                                            overview runtime  \\\n",
       "0  Twenty-two years after the events of Jurassic ...     124   \n",
       "1  An apocalyptic story set in the furthest reach...     120   \n",
       "2  Beatrice Prior must confront her inner demons ...     119   \n",
       "3  Thirty years after defeating the Galactic Empi...     136   \n",
       "4  Deckard Shaw seeks revenge against Dominic Tor...     137   \n",
       "\n",
       "                                      genres  \\\n",
       "0  Action|Adventure|Science Fiction|Thriller   \n",
       "1  Action|Adventure|Science Fiction|Thriller   \n",
       "2         Adventure|Science Fiction|Thriller   \n",
       "3   Action|Adventure|Science Fiction|Fantasy   \n",
       "4                      Action|Crime|Thriller   \n",
       "\n",
       "                                production_companies release_date vote_count  \\\n",
       "0  Universal Studios|Amblin Entertainment|Legenda...       6/9/15       5562   \n",
       "1  Village Roadshow Pictures|Kennedy Miller Produ...      5/13/15       6185   \n",
       "2  Summit Entertainment|Mandeville Films|Red Wago...      3/18/15       2480   \n",
       "3          Lucasfilm|Truenorth Productions|Bad Robot     12/15/15       5292   \n",
       "4  Universal Pictures|Original Film|Media Rights ...       4/1/15       2947   \n",
       "\n",
       "   vote_average  release_year    budget_adj   revenue_adj  \n",
       "0           6.5          2015  1.379999e+08  1.392446e+09  \n",
       "1           7.1          2015  1.379999e+08  3.481613e+08  \n",
       "2           6.3          2015  1.012000e+08  2.716190e+08  \n",
       "3           7.5          2015  1.839999e+08  1.902723e+09  \n",
       "4           7.3          2015  1.747999e+08  1.385749e+09  \n",
       "\n",
       "[5 rows x 21 columns]"
      ]
     },
     "execution_count": 5,
     "metadata": {},
     "output_type": "execute_result"
    }
   ],
   "source": [
    "df.head()"
   ]
  },
  {
   "cell_type": "code",
   "execution_count": 6,
   "metadata": {},
   "outputs": [
    {
     "data": {
      "text/html": [
       "<div>\n",
       "<style scoped>\n",
       "    .dataframe tbody tr th:only-of-type {\n",
       "        vertical-align: middle;\n",
       "    }\n",
       "\n",
       "    .dataframe tbody tr th {\n",
       "        vertical-align: top;\n",
       "    }\n",
       "\n",
       "    .dataframe thead th {\n",
       "        text-align: right;\n",
       "    }\n",
       "</style>\n",
       "<table border=\"1\" class=\"dataframe\">\n",
       "  <thead>\n",
       "    <tr style=\"text-align: right;\">\n",
       "      <th></th>\n",
       "      <th>id</th>\n",
       "      <th>popularity</th>\n",
       "      <th>budget</th>\n",
       "      <th>revenue</th>\n",
       "      <th>runtime</th>\n",
       "      <th>vote_count</th>\n",
       "      <th>vote_average</th>\n",
       "      <th>release_year</th>\n",
       "      <th>budget_adj</th>\n",
       "      <th>revenue_adj</th>\n",
       "    </tr>\n",
       "  </thead>\n",
       "  <tbody>\n",
       "    <tr>\n",
       "      <th>count</th>\n",
       "      <td>10866.000000</td>\n",
       "      <td>10866.000000</td>\n",
       "      <td>1.086600e+04</td>\n",
       "      <td>1.086600e+04</td>\n",
       "      <td>10866.000000</td>\n",
       "      <td>10866.000000</td>\n",
       "      <td>10866.000000</td>\n",
       "      <td>10866.000000</td>\n",
       "      <td>1.086600e+04</td>\n",
       "      <td>1.086600e+04</td>\n",
       "    </tr>\n",
       "    <tr>\n",
       "      <th>mean</th>\n",
       "      <td>66064.177434</td>\n",
       "      <td>0.646441</td>\n",
       "      <td>1.462570e+07</td>\n",
       "      <td>3.982332e+07</td>\n",
       "      <td>102.070863</td>\n",
       "      <td>217.389748</td>\n",
       "      <td>5.974922</td>\n",
       "      <td>2001.322658</td>\n",
       "      <td>1.755104e+07</td>\n",
       "      <td>5.136436e+07</td>\n",
       "    </tr>\n",
       "    <tr>\n",
       "      <th>std</th>\n",
       "      <td>92130.136561</td>\n",
       "      <td>1.000185</td>\n",
       "      <td>3.091321e+07</td>\n",
       "      <td>1.170035e+08</td>\n",
       "      <td>31.381405</td>\n",
       "      <td>575.619058</td>\n",
       "      <td>0.935142</td>\n",
       "      <td>12.812941</td>\n",
       "      <td>3.430616e+07</td>\n",
       "      <td>1.446325e+08</td>\n",
       "    </tr>\n",
       "    <tr>\n",
       "      <th>min</th>\n",
       "      <td>5.000000</td>\n",
       "      <td>0.000065</td>\n",
       "      <td>0.000000e+00</td>\n",
       "      <td>0.000000e+00</td>\n",
       "      <td>0.000000</td>\n",
       "      <td>10.000000</td>\n",
       "      <td>1.500000</td>\n",
       "      <td>1960.000000</td>\n",
       "      <td>0.000000e+00</td>\n",
       "      <td>0.000000e+00</td>\n",
       "    </tr>\n",
       "    <tr>\n",
       "      <th>25%</th>\n",
       "      <td>10596.250000</td>\n",
       "      <td>0.207583</td>\n",
       "      <td>0.000000e+00</td>\n",
       "      <td>0.000000e+00</td>\n",
       "      <td>90.000000</td>\n",
       "      <td>17.000000</td>\n",
       "      <td>5.400000</td>\n",
       "      <td>1995.000000</td>\n",
       "      <td>0.000000e+00</td>\n",
       "      <td>0.000000e+00</td>\n",
       "    </tr>\n",
       "    <tr>\n",
       "      <th>50%</th>\n",
       "      <td>20669.000000</td>\n",
       "      <td>0.383856</td>\n",
       "      <td>0.000000e+00</td>\n",
       "      <td>0.000000e+00</td>\n",
       "      <td>99.000000</td>\n",
       "      <td>38.000000</td>\n",
       "      <td>6.000000</td>\n",
       "      <td>2006.000000</td>\n",
       "      <td>0.000000e+00</td>\n",
       "      <td>0.000000e+00</td>\n",
       "    </tr>\n",
       "    <tr>\n",
       "      <th>75%</th>\n",
       "      <td>75610.000000</td>\n",
       "      <td>0.713817</td>\n",
       "      <td>1.500000e+07</td>\n",
       "      <td>2.400000e+07</td>\n",
       "      <td>111.000000</td>\n",
       "      <td>145.750000</td>\n",
       "      <td>6.600000</td>\n",
       "      <td>2011.000000</td>\n",
       "      <td>2.085325e+07</td>\n",
       "      <td>3.369710e+07</td>\n",
       "    </tr>\n",
       "    <tr>\n",
       "      <th>max</th>\n",
       "      <td>417859.000000</td>\n",
       "      <td>32.985763</td>\n",
       "      <td>4.250000e+08</td>\n",
       "      <td>2.781506e+09</td>\n",
       "      <td>900.000000</td>\n",
       "      <td>9767.000000</td>\n",
       "      <td>9.200000</td>\n",
       "      <td>2015.000000</td>\n",
       "      <td>4.250000e+08</td>\n",
       "      <td>2.827124e+09</td>\n",
       "    </tr>\n",
       "  </tbody>\n",
       "</table>\n",
       "</div>"
      ],
      "text/plain": [
       "                  id    popularity        budget       revenue       runtime  \\\n",
       "count   10866.000000  10866.000000  1.086600e+04  1.086600e+04  10866.000000   \n",
       "mean    66064.177434      0.646441  1.462570e+07  3.982332e+07    102.070863   \n",
       "std     92130.136561      1.000185  3.091321e+07  1.170035e+08     31.381405   \n",
       "min         5.000000      0.000065  0.000000e+00  0.000000e+00      0.000000   \n",
       "25%     10596.250000      0.207583  0.000000e+00  0.000000e+00     90.000000   \n",
       "50%     20669.000000      0.383856  0.000000e+00  0.000000e+00     99.000000   \n",
       "75%     75610.000000      0.713817  1.500000e+07  2.400000e+07    111.000000   \n",
       "max    417859.000000     32.985763  4.250000e+08  2.781506e+09    900.000000   \n",
       "\n",
       "         vote_count  vote_average  release_year    budget_adj   revenue_adj  \n",
       "count  10866.000000  10866.000000  10866.000000  1.086600e+04  1.086600e+04  \n",
       "mean     217.389748      5.974922   2001.322658  1.755104e+07  5.136436e+07  \n",
       "std      575.619058      0.935142     12.812941  3.430616e+07  1.446325e+08  \n",
       "min       10.000000      1.500000   1960.000000  0.000000e+00  0.000000e+00  \n",
       "25%       17.000000      5.400000   1995.000000  0.000000e+00  0.000000e+00  \n",
       "50%       38.000000      6.000000   2006.000000  0.000000e+00  0.000000e+00  \n",
       "75%      145.750000      6.600000   2011.000000  2.085325e+07  3.369710e+07  \n",
       "max     9767.000000      9.200000   2015.000000  4.250000e+08  2.827124e+09  "
      ]
     },
     "execution_count": 6,
     "metadata": {},
     "output_type": "execute_result"
    }
   ],
   "source": [
    "df.describe()"
   ]
  },
  {
   "cell_type": "code",
   "execution_count": 7,
   "metadata": {},
   "outputs": [
    {
     "data": {
      "text/plain": [
       "(10866, 21)"
      ]
     },
     "execution_count": 7,
     "metadata": {},
     "output_type": "execute_result"
    }
   ],
   "source": [
    "df.shape"
   ]
  },
  {
   "cell_type": "code",
   "execution_count": 8,
   "metadata": {},
   "outputs": [],
   "source": [
    "df['release_date'] = pd.to_datetime(df['release_date'])"
   ]
  },
  {
   "cell_type": "code",
   "execution_count": 9,
   "metadata": {},
   "outputs": [],
   "source": [
    "df.drop(labels = ['overview','imdb_id','homepage','tagline'],axis =1,inplace =True)"
   ]
  },
  {
   "cell_type": "code",
   "execution_count": 10,
   "metadata": {},
   "outputs": [
    {
     "data": {
      "text/plain": [
       "(10866, 17)"
      ]
     },
     "execution_count": 10,
     "metadata": {},
     "output_type": "execute_result"
    }
   ],
   "source": [
    "df.shape"
   ]
  },
  {
   "cell_type": "code",
   "execution_count": 11,
   "metadata": {},
   "outputs": [
    {
     "data": {
      "text/plain": [
       "1"
      ]
     },
     "execution_count": 11,
     "metadata": {},
     "output_type": "execute_result"
    }
   ],
   "source": [
    "sum(df.duplicated())"
   ]
  },
  {
   "cell_type": "code",
   "execution_count": 12,
   "metadata": {},
   "outputs": [],
   "source": [
    "df.drop_duplicates(inplace = True)"
   ]
  },
  {
   "cell_type": "code",
   "execution_count": 13,
   "metadata": {},
   "outputs": [
    {
     "data": {
      "text/plain": [
       "id                         0\n",
       "popularity                 0\n",
       "budget                     0\n",
       "revenue                    0\n",
       "original_title             0\n",
       "cast                      76\n",
       "director                  44\n",
       "keywords                1493\n",
       "runtime                    0\n",
       "genres                    23\n",
       "production_companies    1030\n",
       "release_date               0\n",
       "vote_count                 0\n",
       "vote_average               0\n",
       "release_year               0\n",
       "budget_adj                 0\n",
       "revenue_adj                0\n",
       "dtype: int64"
      ]
     },
     "execution_count": 13,
     "metadata": {},
     "output_type": "execute_result"
    }
   ],
   "source": [
    "df.isna().sum()"
   ]
  },
  {
   "cell_type": "code",
   "execution_count": 14,
   "metadata": {},
   "outputs": [
    {
     "name": "stdout",
     "output_type": "stream",
     "text": [
      "\n"
     ]
    }
   ],
   "source": [
    "df.fillna(0)\n",
    "print()"
   ]
  },
  {
   "cell_type": "code",
   "execution_count": 15,
   "metadata": {},
   "outputs": [
    {
     "name": "stdout",
     "output_type": "stream",
     "text": [
      "Number of movies with zero runtimes: 31\n"
     ]
    },
    {
     "data": {
      "text/html": [
       "<div>\n",
       "<style scoped>\n",
       "    .dataframe tbody tr th:only-of-type {\n",
       "        vertical-align: middle;\n",
       "    }\n",
       "\n",
       "    .dataframe tbody tr th {\n",
       "        vertical-align: top;\n",
       "    }\n",
       "\n",
       "    .dataframe thead th {\n",
       "        text-align: right;\n",
       "    }\n",
       "</style>\n",
       "<table border=\"1\" class=\"dataframe\">\n",
       "  <thead>\n",
       "    <tr style=\"text-align: right;\">\n",
       "      <th></th>\n",
       "      <th>id</th>\n",
       "      <th>popularity</th>\n",
       "      <th>budget</th>\n",
       "      <th>revenue</th>\n",
       "      <th>original_title</th>\n",
       "      <th>cast</th>\n",
       "      <th>director</th>\n",
       "      <th>keywords</th>\n",
       "      <th>runtime</th>\n",
       "      <th>genres</th>\n",
       "      <th>production_companies</th>\n",
       "      <th>release_date</th>\n",
       "      <th>vote_count</th>\n",
       "      <th>vote_average</th>\n",
       "      <th>release_year</th>\n",
       "      <th>budget_adj</th>\n",
       "      <th>revenue_adj</th>\n",
       "    </tr>\n",
       "  </thead>\n",
       "  <tbody>\n",
       "    <tr>\n",
       "      <th>3794</th>\n",
       "      <td>58253</td>\n",
       "      <td>0.183134</td>\n",
       "      <td>0</td>\n",
       "      <td>0</td>\n",
       "      <td>Toi, moi, les autres</td>\n",
       "      <td>LeÃ¯la Bekhti|Benjamin Siksou|CÃ©cile Cassel|C...</td>\n",
       "      <td>Audrey Estrougo</td>\n",
       "      <td>woman director</td>\n",
       "      <td>0</td>\n",
       "      <td>Music|Romance</td>\n",
       "      <td>NaN</td>\n",
       "      <td>2011-02-22</td>\n",
       "      <td>17</td>\n",
       "      <td>5.2</td>\n",
       "      <td>2011</td>\n",
       "      <td>0.000000e+00</td>\n",
       "      <td>0.0</td>\n",
       "    </tr>\n",
       "    <tr>\n",
       "      <th>486</th>\n",
       "      <td>333653</td>\n",
       "      <td>0.176744</td>\n",
       "      <td>0</td>\n",
       "      <td>0</td>\n",
       "      <td>If There Be Thorns</td>\n",
       "      <td>Heather Graham|Jason Lewis|Rachael Carpani|Mas...</td>\n",
       "      <td>Nancy Savoca</td>\n",
       "      <td>woman director</td>\n",
       "      <td>0</td>\n",
       "      <td>TV Movie|Drama</td>\n",
       "      <td>A+E Studios|Jane Startz Productions</td>\n",
       "      <td>2015-04-05</td>\n",
       "      <td>11</td>\n",
       "      <td>5.4</td>\n",
       "      <td>2015</td>\n",
       "      <td>0.000000e+00</td>\n",
       "      <td>0.0</td>\n",
       "    </tr>\n",
       "    <tr>\n",
       "      <th>6383</th>\n",
       "      <td>26985</td>\n",
       "      <td>0.371630</td>\n",
       "      <td>2000000</td>\n",
       "      <td>0</td>\n",
       "      <td>The 12 Dogs of Christmas</td>\n",
       "      <td>Jordan-Claire Green|Tom Kemp|Susan Wood|Adam H...</td>\n",
       "      <td>Kieth Merrill</td>\n",
       "      <td>holiday</td>\n",
       "      <td>0</td>\n",
       "      <td>Drama|Family</td>\n",
       "      <td>NaN</td>\n",
       "      <td>2005-11-01</td>\n",
       "      <td>11</td>\n",
       "      <td>4.7</td>\n",
       "      <td>2005</td>\n",
       "      <td>2.233127e+06</td>\n",
       "      <td>0.0</td>\n",
       "    </tr>\n",
       "    <tr>\n",
       "      <th>92</th>\n",
       "      <td>370687</td>\n",
       "      <td>1.876037</td>\n",
       "      <td>0</td>\n",
       "      <td>0</td>\n",
       "      <td>Mythica: The Necromancer</td>\n",
       "      <td>Melanie Stone|Adam Johnson|Kevin Sorbo|Nicola ...</td>\n",
       "      <td>A. Todd Smith</td>\n",
       "      <td>sword|magic|sorcery|necromancer</td>\n",
       "      <td>0</td>\n",
       "      <td>Fantasy|Action|Adventure</td>\n",
       "      <td>Arrowstorm Entertainment|Camera 40 Productions...</td>\n",
       "      <td>2015-12-19</td>\n",
       "      <td>11</td>\n",
       "      <td>5.4</td>\n",
       "      <td>2015</td>\n",
       "      <td>0.000000e+00</td>\n",
       "      <td>0.0</td>\n",
       "    </tr>\n",
       "    <tr>\n",
       "      <th>5920</th>\n",
       "      <td>248842</td>\n",
       "      <td>0.165765</td>\n",
       "      <td>0</td>\n",
       "      <td>0</td>\n",
       "      <td>The Food Guide to Love</td>\n",
       "      <td>Richard Coyle|Leonor Watling|GinÃ©s GarcÃ­a Mi...</td>\n",
       "      <td>Dominic Harari|Teresa Pelegri</td>\n",
       "      <td>woman director</td>\n",
       "      <td>0</td>\n",
       "      <td>Romance|Comedy</td>\n",
       "      <td>Haut et Court|Parallel Film Productions|Fox In...</td>\n",
       "      <td>2013-12-18</td>\n",
       "      <td>12</td>\n",
       "      <td>5.6</td>\n",
       "      <td>2013</td>\n",
       "      <td>0.000000e+00</td>\n",
       "      <td>0.0</td>\n",
       "    </tr>\n",
       "  </tbody>\n",
       "</table>\n",
       "</div>"
      ],
      "text/plain": [
       "          id  popularity   budget  revenue            original_title  \\\n",
       "3794   58253    0.183134        0        0      Toi, moi, les autres   \n",
       "486   333653    0.176744        0        0        If There Be Thorns   \n",
       "6383   26985    0.371630  2000000        0  The 12 Dogs of Christmas   \n",
       "92    370687    1.876037        0        0  Mythica: The Necromancer   \n",
       "5920  248842    0.165765        0        0    The Food Guide to Love   \n",
       "\n",
       "                                                   cast  \\\n",
       "3794  LeÃ¯la Bekhti|Benjamin Siksou|CÃ©cile Cassel|C...   \n",
       "486   Heather Graham|Jason Lewis|Rachael Carpani|Mas...   \n",
       "6383  Jordan-Claire Green|Tom Kemp|Susan Wood|Adam H...   \n",
       "92    Melanie Stone|Adam Johnson|Kevin Sorbo|Nicola ...   \n",
       "5920  Richard Coyle|Leonor Watling|GinÃ©s GarcÃ­a Mi...   \n",
       "\n",
       "                           director                         keywords  runtime  \\\n",
       "3794                Audrey Estrougo                   woman director        0   \n",
       "486                    Nancy Savoca                   woman director        0   \n",
       "6383                  Kieth Merrill                          holiday        0   \n",
       "92                    A. Todd Smith  sword|magic|sorcery|necromancer        0   \n",
       "5920  Dominic Harari|Teresa Pelegri                   woman director        0   \n",
       "\n",
       "                        genres  \\\n",
       "3794             Music|Romance   \n",
       "486             TV Movie|Drama   \n",
       "6383              Drama|Family   \n",
       "92    Fantasy|Action|Adventure   \n",
       "5920            Romance|Comedy   \n",
       "\n",
       "                                   production_companies release_date  \\\n",
       "3794                                                NaN   2011-02-22   \n",
       "486                 A+E Studios|Jane Startz Productions   2015-04-05   \n",
       "6383                                                NaN   2005-11-01   \n",
       "92    Arrowstorm Entertainment|Camera 40 Productions...   2015-12-19   \n",
       "5920  Haut et Court|Parallel Film Productions|Fox In...   2013-12-18   \n",
       "\n",
       "      vote_count  vote_average  release_year    budget_adj  revenue_adj  \n",
       "3794          17           5.2          2011  0.000000e+00          0.0  \n",
       "486           11           5.4          2015  0.000000e+00          0.0  \n",
       "6383          11           4.7          2005  2.233127e+06          0.0  \n",
       "92            11           5.4          2015  0.000000e+00          0.0  \n",
       "5920          12           5.6          2013  0.000000e+00          0.0  "
      ]
     },
     "execution_count": 15,
     "metadata": {},
     "output_type": "execute_result"
    }
   ],
   "source": [
    "runtime_0 = df[df['runtime'] == 0]\n",
    "print(f\"Number of movies with zero runtimes: {runtime_0.shape[0]}\")\n",
    "\n",
    "runtime_0.sample(5)"
   ]
  },
  {
   "cell_type": "code",
   "execution_count": 16,
   "metadata": {},
   "outputs": [],
   "source": [
    "df.drop(labels = runtime_0.index,axis = 0,inplace = True)"
   ]
  },
  {
   "cell_type": "code",
   "execution_count": 17,
   "metadata": {},
   "outputs": [
    {
     "data": {
      "text/plain": [
       "(10834, 17)"
      ]
     },
     "execution_count": 17,
     "metadata": {},
     "output_type": "execute_result"
    }
   ],
   "source": [
    "df.shape"
   ]
  },
  {
   "cell_type": "code",
   "execution_count": 32,
   "metadata": {},
   "outputs": [],
   "source": [
    "df['budget'] = df['budget'].replace(0,np.NAN)"
   ]
  },
  {
   "cell_type": "code",
   "execution_count": 18,
   "metadata": {},
   "outputs": [
    {
     "data": {
      "text/plain": [
       "2244    425000000\n",
       "3375    380000000\n",
       "7387    300000000\n",
       "Name: budget, dtype: int64"
      ]
     },
     "execution_count": 18,
     "metadata": {},
     "output_type": "execute_result"
    }
   ],
   "source": [
    "df['budget'].nlargest(3)"
   ]
  },
  {
   "cell_type": "code",
   "execution_count": 19,
   "metadata": {},
   "outputs": [
    {
     "name": "stdout",
     "output_type": "stream",
     "text": [
      "Movie with 3rd highest budget is Pirates of the Caribbean: At World's End\n"
     ]
    }
   ],
   "source": [
    "print(\"Movie with 3rd highest budget is\",df['original_title'][7387])"
   ]
  },
  {
   "cell_type": "code",
   "execution_count": 33,
   "metadata": {},
   "outputs": [
    {
     "data": {
      "text/plain": [
       "1151    1.0\n",
       "2618    1.0\n",
       "3065    1.0\n",
       "Name: budget, dtype: float64"
      ]
     },
     "execution_count": 33,
     "metadata": {},
     "output_type": "execute_result"
    }
   ],
   "source": [
    "df['budget'].nsmallest(3)"
   ]
  },
  {
   "cell_type": "code",
   "execution_count": 93,
   "metadata": {},
   "outputs": [
    {
     "name": "stdout",
     "output_type": "stream",
     "text": [
      "Movie with 3rd lowest budget is Angus, Thongs and Perfect Snogging\n"
     ]
    }
   ],
   "source": [
    "print(\"Movie with 3rd lowest budget is\",df['original_title'][3065])"
   ]
  },
  {
   "cell_type": "code",
   "execution_count": 94,
   "metadata": {},
   "outputs": [
    {
     "data": {
      "text/html": [
       "<div>\n",
       "<style scoped>\n",
       "    .dataframe tbody tr th:only-of-type {\n",
       "        vertical-align: middle;\n",
       "    }\n",
       "\n",
       "    .dataframe tbody tr th {\n",
       "        vertical-align: top;\n",
       "    }\n",
       "\n",
       "    .dataframe thead th {\n",
       "        text-align: right;\n",
       "    }\n",
       "</style>\n",
       "<table border=\"1\" class=\"dataframe\">\n",
       "  <thead>\n",
       "    <tr style=\"text-align: right;\">\n",
       "      <th></th>\n",
       "      <th>id</th>\n",
       "      <th>popularity</th>\n",
       "      <th>budget</th>\n",
       "      <th>revenue</th>\n",
       "      <th>original_title</th>\n",
       "      <th>cast</th>\n",
       "      <th>director</th>\n",
       "      <th>keywords</th>\n",
       "      <th>runtime</th>\n",
       "      <th>genres</th>\n",
       "      <th>production_companies</th>\n",
       "      <th>release_date</th>\n",
       "      <th>vote_count</th>\n",
       "      <th>vote_average</th>\n",
       "      <th>release_year</th>\n",
       "      <th>budget_adj</th>\n",
       "      <th>revenue_adj</th>\n",
       "    </tr>\n",
       "  </thead>\n",
       "  <tbody>\n",
       "    <tr>\n",
       "      <th>4</th>\n",
       "      <td>168259</td>\n",
       "      <td>9.335014</td>\n",
       "      <td>190000000.0</td>\n",
       "      <td>1.506249e+09</td>\n",
       "      <td>Furious 7</td>\n",
       "      <td>Vin Diesel|Paul Walker|Jason Statham|Michelle ...</td>\n",
       "      <td>James Wan</td>\n",
       "      <td>car race|speed|revenge|suspense|car</td>\n",
       "      <td>137</td>\n",
       "      <td>Action|Crime|Thriller</td>\n",
       "      <td>Universal Pictures|Original Film|Media Rights ...</td>\n",
       "      <td>2015-04-01</td>\n",
       "      <td>2947</td>\n",
       "      <td>7.3</td>\n",
       "      <td>2015</td>\n",
       "      <td>1.747999e+08</td>\n",
       "      <td>1.385749e+09</td>\n",
       "    </tr>\n",
       "    <tr>\n",
       "      <th>41</th>\n",
       "      <td>274854</td>\n",
       "      <td>3.080505</td>\n",
       "      <td>90000000.0</td>\n",
       "      <td>1.403966e+08</td>\n",
       "      <td>The Last Witch Hunter</td>\n",
       "      <td>Vin Diesel|Rose Leslie|Michael Caine|Elijah Wo...</td>\n",
       "      <td>Breck Eisner</td>\n",
       "      <td>new york|witch|uprising|witch hunter</td>\n",
       "      <td>106</td>\n",
       "      <td>Fantasy|Action|Adventure</td>\n",
       "      <td>Summit Entertainment|Atmosphere Entertainment ...</td>\n",
       "      <td>2015-10-21</td>\n",
       "      <td>879</td>\n",
       "      <td>5.6</td>\n",
       "      <td>2015</td>\n",
       "      <td>8.279996e+07</td>\n",
       "      <td>1.291649e+08</td>\n",
       "    </tr>\n",
       "    <tr>\n",
       "      <th>630</th>\n",
       "      <td>118340</td>\n",
       "      <td>14.311205</td>\n",
       "      <td>170000000.0</td>\n",
       "      <td>7.733124e+08</td>\n",
       "      <td>Guardians of the Galaxy</td>\n",
       "      <td>Chris Pratt|Zoe Saldana|Dave Bautista|Vin Dies...</td>\n",
       "      <td>James Gunn</td>\n",
       "      <td>marvel comic|spaceship|space|scene during end ...</td>\n",
       "      <td>121</td>\n",
       "      <td>Action|Science Fiction|Adventure</td>\n",
       "      <td>Marvel Studios|Moving Picture Company (MPC)|Bu...</td>\n",
       "      <td>2014-07-30</td>\n",
       "      <td>5612</td>\n",
       "      <td>7.9</td>\n",
       "      <td>2014</td>\n",
       "      <td>1.565855e+08</td>\n",
       "      <td>7.122911e+08</td>\n",
       "    </tr>\n",
       "    <tr>\n",
       "      <th>1539</th>\n",
       "      <td>13804</td>\n",
       "      <td>0.580292</td>\n",
       "      <td>85000000.0</td>\n",
       "      <td>3.631643e+08</td>\n",
       "      <td>Fast &amp; Furious</td>\n",
       "      <td>Vin Diesel|Paul Walker|Jordana Brewster|Michel...</td>\n",
       "      <td>Justin Lin</td>\n",
       "      <td>gambling|brother sister relationship|ex-lover|...</td>\n",
       "      <td>107</td>\n",
       "      <td>Action|Crime|Drama|Thriller</td>\n",
       "      <td>Universal Pictures|Original Film|One Race Prod...</td>\n",
       "      <td>2009-04-02</td>\n",
       "      <td>1661</td>\n",
       "      <td>6.4</td>\n",
       "      <td>2009</td>\n",
       "      <td>8.639404e+07</td>\n",
       "      <td>3.691203e+08</td>\n",
       "    </tr>\n",
       "    <tr>\n",
       "      <th>1907</th>\n",
       "      <td>253835</td>\n",
       "      <td>0.015310</td>\n",
       "      <td>NaN</td>\n",
       "      <td>NaN</td>\n",
       "      <td>Los Bandoleros</td>\n",
       "      <td>Vin Diesel|Michelle Rodriguez|Sung Kang|Don Om...</td>\n",
       "      <td>Vin Diesel</td>\n",
       "      <td>NaN</td>\n",
       "      <td>20</td>\n",
       "      <td>Action|Drama</td>\n",
       "      <td>NaN</td>\n",
       "      <td>2009-07-28</td>\n",
       "      <td>42</td>\n",
       "      <td>5.9</td>\n",
       "      <td>2009</td>\n",
       "      <td>0.000000e+00</td>\n",
       "      <td>0.000000e+00</td>\n",
       "    </tr>\n",
       "  </tbody>\n",
       "</table>\n",
       "</div>"
      ],
      "text/plain": [
       "          id  popularity       budget       revenue           original_title  \\\n",
       "4     168259    9.335014  190000000.0  1.506249e+09                Furious 7   \n",
       "41    274854    3.080505   90000000.0  1.403966e+08    The Last Witch Hunter   \n",
       "630   118340   14.311205  170000000.0  7.733124e+08  Guardians of the Galaxy   \n",
       "1539   13804    0.580292   85000000.0  3.631643e+08           Fast & Furious   \n",
       "1907  253835    0.015310          NaN           NaN           Los Bandoleros   \n",
       "\n",
       "                                                   cast      director  \\\n",
       "4     Vin Diesel|Paul Walker|Jason Statham|Michelle ...     James Wan   \n",
       "41    Vin Diesel|Rose Leslie|Michael Caine|Elijah Wo...  Breck Eisner   \n",
       "630   Chris Pratt|Zoe Saldana|Dave Bautista|Vin Dies...    James Gunn   \n",
       "1539  Vin Diesel|Paul Walker|Jordana Brewster|Michel...    Justin Lin   \n",
       "1907  Vin Diesel|Michelle Rodriguez|Sung Kang|Don Om...    Vin Diesel   \n",
       "\n",
       "                                               keywords  runtime  \\\n",
       "4                   car race|speed|revenge|suspense|car      137   \n",
       "41                 new york|witch|uprising|witch hunter      106   \n",
       "630   marvel comic|spaceship|space|scene during end ...      121   \n",
       "1539  gambling|brother sister relationship|ex-lover|...      107   \n",
       "1907                                                NaN       20   \n",
       "\n",
       "                                genres  \\\n",
       "4                Action|Crime|Thriller   \n",
       "41            Fantasy|Action|Adventure   \n",
       "630   Action|Science Fiction|Adventure   \n",
       "1539       Action|Crime|Drama|Thriller   \n",
       "1907                      Action|Drama   \n",
       "\n",
       "                                   production_companies release_date  \\\n",
       "4     Universal Pictures|Original Film|Media Rights ...   2015-04-01   \n",
       "41    Summit Entertainment|Atmosphere Entertainment ...   2015-10-21   \n",
       "630   Marvel Studios|Moving Picture Company (MPC)|Bu...   2014-07-30   \n",
       "1539  Universal Pictures|Original Film|One Race Prod...   2009-04-02   \n",
       "1907                                                NaN   2009-07-28   \n",
       "\n",
       "      vote_count  vote_average  release_year    budget_adj   revenue_adj  \n",
       "4           2947           7.3          2015  1.747999e+08  1.385749e+09  \n",
       "41           879           5.6          2015  8.279996e+07  1.291649e+08  \n",
       "630         5612           7.9          2014  1.565855e+08  7.122911e+08  \n",
       "1539        1661           6.4          2009  8.639404e+07  3.691203e+08  \n",
       "1907          42           5.9          2009  0.000000e+00  0.000000e+00  "
      ]
     },
     "execution_count": 94,
     "metadata": {},
     "output_type": "execute_result"
    }
   ],
   "source": [
    "vindmov=df[df['cast'].str.contains(\"Vin Diesel\",na=False)]\n",
    "vindmov.head()"
   ]
  },
  {
   "cell_type": "code",
   "execution_count": 95,
   "metadata": {},
   "outputs": [
    {
     "data": {
      "image/png": "[encoded data removed]",
      "text/plain": [
       "<Figure size 936x432 with 1 Axes>"
      ]
     },
     "metadata": {},
     "output_type": "display_data"
    }
   ],
   "source": [
    "def count_genre(x):\n",
    "    #concatenate all the rows of the genrs.\n",
    "    data_plot = vindmov[x].str.cat(sep = '|')\n",
    "    data = pd.Series(data_plot.split('|'))\n",
    "    #conts each of the genre and return.\n",
    "    info = data.value_counts(ascending=False)\n",
    "    return info\n",
    "\n",
    "\n",
    "total_genre_movies = count_genre('genres')\n",
    "#plot a 'barh' plot using plot function for 'genre vs number of movies'.\n",
    "total_genre_movies.plot(kind= 'barh',figsize = (13,6),fontsize=12,colormap='tab20c')\n",
    "\n",
    "#setup the title and the labels of the plot.\n",
    "plt.title(\"Genre With Highest Release\",fontsize=15)\n",
    "plt.xlabel('Number Of Movies',fontsize=13)\n",
    "plt.ylabel(\"Genres\",fontsize= 13)\n",
    "sns.set_style(\"whitegrid\")\n"
   ]
  },
  {
   "cell_type": "code",
   "execution_count": 91,
   "metadata": {},
   "outputs": [
    {
     "name": "stdout",
     "output_type": "stream",
     "text": [
      "Most common genre for Vin Diesel's Movies: Action\n"
     ]
    }
   ],
   "source": [
    "data_plot = vindmov['genres'].str.cat(sep = '|')\n",
    "data = pd.Series(data_plot.split('|'))\n",
    "print(\"Most common genre for Vin Diesel's Movies:\",data.value_counts().idxmax()) "
   ]
  },
  {
   "cell_type": "code",
   "execution_count": 75,
   "metadata": {},
   "outputs": [
    {
     "data": {
      "text/html": [
       "<div>\n",
       "<style scoped>\n",
       "    .dataframe tbody tr th:only-of-type {\n",
       "        vertical-align: middle;\n",
       "    }\n",
       "\n",
       "    .dataframe tbody tr th {\n",
       "        vertical-align: top;\n",
       "    }\n",
       "\n",
       "    .dataframe thead th {\n",
       "        text-align: right;\n",
       "    }\n",
       "</style>\n",
       "<table border=\"1\" class=\"dataframe\">\n",
       "  <thead>\n",
       "    <tr style=\"text-align: right;\">\n",
       "      <th></th>\n",
       "      <th>id</th>\n",
       "      <th>popularity</th>\n",
       "      <th>budget</th>\n",
       "      <th>revenue</th>\n",
       "      <th>original_title</th>\n",
       "      <th>cast</th>\n",
       "      <th>director</th>\n",
       "      <th>keywords</th>\n",
       "      <th>runtime</th>\n",
       "      <th>genres</th>\n",
       "      <th>production_companies</th>\n",
       "      <th>release_date</th>\n",
       "      <th>vote_count</th>\n",
       "      <th>vote_average</th>\n",
       "      <th>release_year</th>\n",
       "      <th>budget_adj</th>\n",
       "      <th>revenue_adj</th>\n",
       "    </tr>\n",
       "  </thead>\n",
       "  <tbody>\n",
       "    <tr>\n",
       "      <th>146</th>\n",
       "      <td>241257</td>\n",
       "      <td>1.065888</td>\n",
       "      <td>NaN</td>\n",
       "      <td>17671101.0</td>\n",
       "      <td>Regression</td>\n",
       "      <td>Ethan Hawke|Emma Watson|Aaron Ashmore|Devon Bo...</td>\n",
       "      <td>Alejandro AmenÃ¡bar</td>\n",
       "      <td>investigation|memory loss</td>\n",
       "      <td>106</td>\n",
       "      <td>Horror|Mystery|Thriller</td>\n",
       "      <td>The Weinstein Company|HimenÃ³ptero|First Gener...</td>\n",
       "      <td>2015-10-01</td>\n",
       "      <td>310</td>\n",
       "      <td>5.2</td>\n",
       "      <td>2015</td>\n",
       "      <td>0.000000e+00</td>\n",
       "      <td>1.625741e+07</td>\n",
       "    </tr>\n",
       "    <tr>\n",
       "      <th>686</th>\n",
       "      <td>86834</td>\n",
       "      <td>2.526779</td>\n",
       "      <td>125000000.0</td>\n",
       "      <td>362637473.0</td>\n",
       "      <td>Noah</td>\n",
       "      <td>Russell Crowe|Jennifer Connelly|Emma Watson|Lo...</td>\n",
       "      <td>Darren Aronofsky</td>\n",
       "      <td>bible|god|noah</td>\n",
       "      <td>139</td>\n",
       "      <td>Drama|Adventure</td>\n",
       "      <td>Paramount Pictures|Regency Enterprises|Protozo...</td>\n",
       "      <td>2014-03-20</td>\n",
       "      <td>1589</td>\n",
       "      <td>5.5</td>\n",
       "      <td>2014</td>\n",
       "      <td>1.151364e+08</td>\n",
       "      <td>3.340221e+08</td>\n",
       "    </tr>\n",
       "    <tr>\n",
       "      <th>1389</th>\n",
       "      <td>767</td>\n",
       "      <td>5.076472</td>\n",
       "      <td>250000000.0</td>\n",
       "      <td>933959197.0</td>\n",
       "      <td>Harry Potter and the Half-Blood Prince</td>\n",
       "      <td>Daniel Radcliffe|Rupert Grint|Emma Watson|Tom ...</td>\n",
       "      <td>David Yates</td>\n",
       "      <td>witch|broom|school of witchcraft|magic wand|ma...</td>\n",
       "      <td>153</td>\n",
       "      <td>Adventure|Fantasy|Family</td>\n",
       "      <td>Warner Bros.|Heyday Films</td>\n",
       "      <td>2009-07-07</td>\n",
       "      <td>3220</td>\n",
       "      <td>7.3</td>\n",
       "      <td>2009</td>\n",
       "      <td>2.541001e+08</td>\n",
       "      <td>9.492765e+08</td>\n",
       "    </tr>\n",
       "    <tr>\n",
       "      <th>1923</th>\n",
       "      <td>12444</td>\n",
       "      <td>4.840588</td>\n",
       "      <td>250000000.0</td>\n",
       "      <td>954305868.0</td>\n",
       "      <td>Harry Potter and the Deathly Hallows: Part 1</td>\n",
       "      <td>Daniel Radcliffe|Emma Watson|Rupert Grint|Ralp...</td>\n",
       "      <td>David Yates</td>\n",
       "      <td>corruption|isolation|radio|magic|teleportation</td>\n",
       "      <td>146</td>\n",
       "      <td>Adventure|Fantasy|Family</td>\n",
       "      <td>Warner Bros.|Heyday Films</td>\n",
       "      <td>2010-10-17</td>\n",
       "      <td>3467</td>\n",
       "      <td>7.4</td>\n",
       "      <td>2010</td>\n",
       "      <td>2.500000e+08</td>\n",
       "      <td>9.543059e+08</td>\n",
       "    </tr>\n",
       "    <tr>\n",
       "      <th>2634</th>\n",
       "      <td>671</td>\n",
       "      <td>8.021423</td>\n",
       "      <td>125000000.0</td>\n",
       "      <td>976475550.0</td>\n",
       "      <td>Harry Potter and the Philosopher's Stone</td>\n",
       "      <td>Daniel Radcliffe|Rupert Grint|Emma Watson|John...</td>\n",
       "      <td>Chris Columbus</td>\n",
       "      <td>witch|christmas party|magic|cutting the cord|h...</td>\n",
       "      <td>152</td>\n",
       "      <td>Adventure|Fantasy|Family</td>\n",
       "      <td>1492 Pictures|Warner Bros.|Heyday Films</td>\n",
       "      <td>2001-11-16</td>\n",
       "      <td>4265</td>\n",
       "      <td>7.2</td>\n",
       "      <td>2001</td>\n",
       "      <td>1.539360e+08</td>\n",
       "      <td>1.202518e+09</td>\n",
       "    </tr>\n",
       "  </tbody>\n",
       "</table>\n",
       "</div>"
      ],
      "text/plain": [
       "          id  popularity       budget      revenue  \\\n",
       "146   241257    1.065888          NaN   17671101.0   \n",
       "686    86834    2.526779  125000000.0  362637473.0   \n",
       "1389     767    5.076472  250000000.0  933959197.0   \n",
       "1923   12444    4.840588  250000000.0  954305868.0   \n",
       "2634     671    8.021423  125000000.0  976475550.0   \n",
       "\n",
       "                                    original_title  \\\n",
       "146                                     Regression   \n",
       "686                                           Noah   \n",
       "1389        Harry Potter and the Half-Blood Prince   \n",
       "1923  Harry Potter and the Deathly Hallows: Part 1   \n",
       "2634      Harry Potter and the Philosopher's Stone   \n",
       "\n",
       "                                                   cast             director  \\\n",
       "146   Ethan Hawke|Emma Watson|Aaron Ashmore|Devon Bo...  Alejandro AmenÃ¡bar   \n",
       "686   Russell Crowe|Jennifer Connelly|Emma Watson|Lo...     Darren Aronofsky   \n",
       "1389  Daniel Radcliffe|Rupert Grint|Emma Watson|Tom ...          David Yates   \n",
       "1923  Daniel Radcliffe|Emma Watson|Rupert Grint|Ralp...          David Yates   \n",
       "2634  Daniel Radcliffe|Rupert Grint|Emma Watson|John...       Chris Columbus   \n",
       "\n",
       "                                               keywords  runtime  \\\n",
       "146                           investigation|memory loss      106   \n",
       "686                                      bible|god|noah      139   \n",
       "1389  witch|broom|school of witchcraft|magic wand|ma...      153   \n",
       "1923     corruption|isolation|radio|magic|teleportation      146   \n",
       "2634  witch|christmas party|magic|cutting the cord|h...      152   \n",
       "\n",
       "                        genres  \\\n",
       "146    Horror|Mystery|Thriller   \n",
       "686            Drama|Adventure   \n",
       "1389  Adventure|Fantasy|Family   \n",
       "1923  Adventure|Fantasy|Family   \n",
       "2634  Adventure|Fantasy|Family   \n",
       "\n",
       "                                   production_companies release_date  \\\n",
       "146   The Weinstein Company|HimenÃ³ptero|First Gener...   2015-10-01   \n",
       "686   Paramount Pictures|Regency Enterprises|Protozo...   2014-03-20   \n",
       "1389                          Warner Bros.|Heyday Films   2009-07-07   \n",
       "1923                          Warner Bros.|Heyday Films   2010-10-17   \n",
       "2634            1492 Pictures|Warner Bros.|Heyday Films   2001-11-16   \n",
       "\n",
       "      vote_count  vote_average  release_year    budget_adj   revenue_adj  \n",
       "146          310           5.2          2015  0.000000e+00  1.625741e+07  \n",
       "686         1589           5.5          2014  1.151364e+08  3.340221e+08  \n",
       "1389        3220           7.3          2009  2.541001e+08  9.492765e+08  \n",
       "1923        3467           7.4          2010  2.500000e+08  9.543059e+08  \n",
       "2634        4265           7.2          2001  1.539360e+08  1.202518e+09  "
      ]
     },
     "execution_count": 75,
     "metadata": {},
     "output_type": "execute_result"
    }
   ],
   "source": [
    "emmamov=df[df['cast'].str.contains(\"Emma Watson\",na=False)]\n",
    "emmamov.head()"
   ]
  },
  {
   "cell_type": "code",
   "execution_count": 96,
   "metadata": {},
   "outputs": [
    {
     "data": {
      "image/png": "[encoded data removed]",
      "text/plain": [
       "<Figure size 936x432 with 1 Axes>"
      ]
     },
     "metadata": {},
     "output_type": "display_data"
    }
   ],
   "source": [
    "def count_genre(x):\n",
    "    #concatenate all the rows of the genrs.\n",
    "    data_plot = emmamov[x].str.cat(sep = '|')\n",
    "    data = pd.Series(data_plot.split('|'))\n",
    "    #conts each of the genre and return.\n",
    "    info = data.value_counts(ascending=False)\n",
    "    return info\n",
    "\n",
    "\n",
    "total_genre_movies = count_genre('genres')\n",
    "#plot a 'barh' plot using plot function for 'genre vs number of movies'.\n",
    "total_genre_movies.plot(kind= 'barh',figsize = (13,6),fontsize=12,colormap='tab20c')\n",
    "\n",
    "#setup the title and the labels of the plot.\n",
    "plt.title(\"Genre With Highest Release\",fontsize=15)\n",
    "plt.xlabel('Number Of Movies',fontsize=13)\n",
    "plt.ylabel(\"Genres\",fontsize= 13)\n",
    "sns.set_style(\"whitegrid\")\n"
   ]
  },
  {
   "cell_type": "code",
   "execution_count": 92,
   "metadata": {},
   "outputs": [
    {
     "name": "stdout",
     "output_type": "stream",
     "text": [
      "Most common genre for Emma Watson's Movies: Family\n"
     ]
    }
   ],
   "source": [
    "data_plot = emmamov['genres'].str.cat(sep = '|')\n",
    "data = pd.Series(data_plot.split('|'))\n",
    "print(\"Most common genre for Emma Watson's Movies:\",data.value_counts().idxmax())"
   ]
  },
  {
   "cell_type": "code",
   "execution_count": 22,
   "metadata": {},
   "outputs": [
    {
     "name": "stdout",
     "output_type": "stream",
     "text": [
      "Movie with highest revenue is Avatar\n",
      "Movie with lowest revenue is Wild Card\n"
     ]
    }
   ],
   "source": [
    "low_index = df['revenue'].idxmin()\n",
    "high_index = df['revenue'].idxmax()\n",
    "print(\"Movie with highest revenue is\",df['original_title'][high_index])\n",
    "print(\"Movie with lowest revenue is\",df['original_title'][low_index])"
   ]
  },
  {
   "cell_type": "code",
   "execution_count": 23,
   "metadata": {},
   "outputs": [
    {
     "data": {
      "image/png": "[encoded data removed]",
      "text/plain": [
       "<Figure size 432x288 with 1 Axes>"
      ]
     },
     "metadata": {
      "needs_background": "light"
     },
     "output_type": "display_data"
    }
   ],
   "source": [
    "df.groupby('release_year').mean()['runtime'].plot(xticks = np.arange(1960,2016,5))\n",
    "\n",
    "#setup the figure size.\n",
    "sns.set(rc={'figure.figsize':(10,5)})\n",
    "\n",
    "#setup the title of the figure\n",
    "plt.title(\"Runtime Vs Year\",fontsize = 14)\n",
    "\n",
    "#setup the x-label and y-label of the plot.\n",
    "plt.xlabel('Year',fontsize = 13)\n",
    "plt.ylabel('Runtime',fontsize = 13)\n",
    "sns.set_style(\"whitegrid\")"
   ]
  },
  {
   "cell_type": "code",
   "execution_count": 31,
   "metadata": {},
   "outputs": [
    {
     "name": "stdout",
     "output_type": "stream",
     "text": [
      "The average runtime of year 2006 is 101.93366093366093\n"
     ]
    }
   ],
   "source": [
    "year2006=df['release_year']==2006\n",
    "print(\"The average runtime of year 2006 is\",df.loc[year2006, 'runtime'].mean())"
   ]
  },
  {
   "cell_type": "code",
   "execution_count": 34,
   "metadata": {},
   "outputs": [
    {
     "data": {
      "text/plain": [
       "48    0\n",
       "67    0\n",
       "74    0\n",
       "Name: revenue, dtype: int64"
      ]
     },
     "execution_count": 34,
     "metadata": {},
     "output_type": "execute_result"
    }
   ],
   "source": [
    "df['revenue'].nsmallest(3)"
   ]
  },
  {
   "cell_type": "code",
   "execution_count": 39,
   "metadata": {},
   "outputs": [
    {
     "name": "stdout",
     "output_type": "stream",
     "text": [
      "3 production companies which have invested money in worse revenue movies including movies with 0 revenue:\n",
      " Current Entertainment|Lionsgate|Sierra / Affinity|SJ Heat Productions|Silver State Production Services \n",
      " Nu Image Films|Winkler Films|Millennium Films|Survivor Productions \n",
      " Arrowstorm Entertainment\n"
     ]
    }
   ],
   "source": [
    "print(\"3 production companies which have invested money in worse revenue movies including movies with 0 revenue:\\n\",\n",
    "      df['production_companies'][48],\"\\n\",\n",
    "      df['production_companies'][67],\"\\n\",\n",
    "      df['production_companies'][74])"
   ]
  },
  {
   "cell_type": "code",
   "execution_count": 41,
   "metadata": {},
   "outputs": [],
   "source": [
    "df['revenue']=df['revenue'].replace(0,np.NAN)"
   ]
  },
  {
   "cell_type": "code",
   "execution_count": 42,
   "metadata": {},
   "outputs": [
    {
     "data": {
      "text/plain": [
       "5067    2.0\n",
       "8142    2.0\n",
       "1380    3.0\n",
       "Name: revenue, dtype: float64"
      ]
     },
     "execution_count": 42,
     "metadata": {},
     "output_type": "execute_result"
    }
   ],
   "source": [
    "df['revenue'].nsmallest(3)"
   ]
  },
  {
   "cell_type": "code",
   "execution_count": 43,
   "metadata": {},
   "outputs": [
    {
     "name": "stdout",
     "output_type": "stream",
     "text": [
      "3 production companies which have invested money in worse revenue movies excluding movies with 0 revenue:\n",
      " Lions Gate Films|Cruise/Wagner Productions|Baumgarten Merims Productions \n",
      " Gramercy Pictures|Alphaville Films|View Askew Productions \n",
      " Universal Pictures\n"
     ]
    }
   ],
   "source": [
    "print(\"3 production companies which have invested money in worse revenue movies excluding movies with 0 revenue:\\n\",\n",
    "      df['production_companies'][5067],\"\\n\",\n",
    "      df['production_companies'][8142],\"\\n\",\n",
    "      df['production_companies'][1380])"
   ]
  }
 ],
 "metadata": {
  "kernelspec": {
   "display_name": "Python 3",
   "language": "python",
   "name": "python3"
  },
  "language_info": {
   "codemirror_mode": {
    "name": "ipython",
    "version": 3
   },
   "file_extension": ".py",
   "mimetype": "text/x-python",
   "name": "python",
   "nbconvert_exporter": "python",
   "pygments_lexer": "ipython3",
   "version": "3.7.6"
  }
 },
 "nbformat": 4,
 "nbformat_minor": 4
}
